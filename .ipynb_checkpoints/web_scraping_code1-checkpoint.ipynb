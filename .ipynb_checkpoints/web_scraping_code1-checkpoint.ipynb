{
 "cells": [
  {
   "cell_type": "markdown",
   "metadata": {},
   "source": [
    "# Pugno Pirata"
   ]
  },
  {
   "cell_type": "code",
   "execution_count": null,
   "metadata": {},
   "outputs": [],
   "source": [
    "import urllib.request\n",
    "from bs4 import BeautifulSoup\n",
    "from selenium import webdriver\n",
    "import time\n",
    "import pandas as pd\n",
    "import datetime"
   ]
  },
  {
   "cell_type": "code",
   "execution_count": 19,
   "metadata": {},
   "outputs": [],
   "source": [
    "def tira_giu_dati(giorni_in_avanti):\n",
    "    \n",
    "    prezzi = []\n",
    "    numeri_treni = []\n",
    "    data_partenza = []\n",
    "    \n",
    "    for i in range(giorni_in_avanti):\n",
    "        ######\n",
    "        prezzo_non_so_cosa_sia = driver.find_elements_by_xpath(\"//span[@style='float:right']\")\n",
    "        #####prezzo:\n",
    "        elem5 = driver.find_elements_by_xpath(\"//*//*//span[@class='price']\")\n",
    "        #####posti esauriti sicuri\n",
    "        elem3 = driver.find_elements_by_xpath(\"//div[@class='panel-group']//div[@class='panel']//div[@class='text-center']//img[@title]\")\n",
    "        data_raccolta = datetime.date.today()\n",
    "        tipologia_treno = driver.find_elements_by_xpath(\"//td[@class='padding-0']//div[@class='descr']\")\n",
    "        t1 = [i.text for i in tipologia_treno]\n",
    "        \n",
    "        dizionario1 = {}\n",
    "\n",
    "        for j in prezzo_non_so_cosa_sia:\n",
    "            dizionario1[j.location_once_scrolled_into_view['y']] = j.text\n",
    "    \n",
    "        for k in elem5:\n",
    "            dizionario1[k.location_once_scrolled_into_view['y']] = k.text\n",
    "    \n",
    "        for l in elem3:\n",
    "            dizionario1[l.location_once_scrolled_into_view['y']] = l.get_attribute('title')\n",
    "            \n",
    "        print(dizionario1)\n",
    "        print(metti_aposto_dizionario(dizionario1))\n",
    "        prezzi.extend(metti_aposto_dizionario(dizionario1))\n",
    "        numeri_treni.extend(t1)\n",
    "        d1 = [datetime.date.today()+datetime.timedelta(days=i) for j in range(3)]\n",
    "        data_partenza.extend(d1)\n",
    "        \n",
    "        scegli_giorno_seconda_pagina((datetime.date.today()+datetime.timedelta(days=i+1)).day)\n",
    "        time.sleep(3)\n",
    "        \n",
    "    data_oggi = [datetime.date.today() for i in range(len(prezzi))]\n",
    "    \n",
    "    return(prezzi,numeri_treni,data_partenza,data_oggi)"
   ]
  },
  {
   "cell_type": "code",
   "execution_count": 3,
   "metadata": {},
   "outputs": [],
   "source": [
    "def metti_aposto_dizionario(dizionario):\n",
    "    \n",
    "    \n",
    "    a1 = dizionario.keys()\n",
    "    r3 = [i for i in a1]\n",
    "    r3.sort()\n",
    "    valori_in_ordine = [dizionario[i] for i in r3]\n",
    "    return(valori_in_ordine)"
   ]
  },
  {
   "cell_type": "code",
   "execution_count": 4,
   "metadata": {},
   "outputs": [],
   "source": [
    "def scegli_giorno_seconda_pagina(giorno):\n",
    "    '''con questa funzione vado a cambiare il giorno per lo scraping, è divisa in tre parti!'''\n",
    "        \n",
    "    print('semo aqui')\n",
    "    #1\n",
    "    cambia_giorno = driver.find_elements_by_xpath(\"//span[@class='input-group-addon']\")\n",
    "    cambia_giorno[0].click()\n",
    "    \n",
    "    time.sleep(20)\n",
    "    #2\n",
    "    scegli_giorno = driver.find_elements_by_xpath(\"//td[@class='day']\")\n",
    "    print('testo1',scegli_giorno[4].text)\n",
    "    for i in range(len(scegli_giorno)):\n",
    "        try:\n",
    "            if int(scegli_giorno[i].text) == int(giorno):\n",
    "                print('testo',scegli_giorno[i].text)\n",
    "                scegli_giorno[i].click()\n",
    "                \n",
    "        except:\n",
    "            cambia_giorno = driver.find_elements_by_xpath(\"//span[@class='input-group-addon']\")\n",
    "            cambia_giorno[0].click()\n",
    "    time.sleep(20)\n",
    "    #3  \n",
    "    aggiorna = driver.find_elements_by_xpath(\"//input[@type='submit']\")\n",
    "    aggiorna[0].click()\n",
    "    time.sleep(10)"
   ]
  },
  {
   "cell_type": "code",
   "execution_count": 15,
   "metadata": {},
   "outputs": [],
   "source": [
    "def naviga_da_a(citta1,citta2,giorni_in_avanti):\n",
    "    \n",
    "    # driver.quit()\n",
    "    elems = driver.find_elements_by_xpath(\"//div[@class='input-box']//input[@type='search']\")\n",
    "    elems[0].send_keys(citta1)\n",
    "    elems[1].send_keys(citta2)\n",
    "    driver.find_elements_by_xpath(\"//button[@title='Cerca']\")[0].click()\n",
    "    time.sleep(10)\n",
    "    my_dati = tira_giu_dati(giorni_in_avanti)\n",
    "    return(my_dati)\n"
   ]
  },
  {
   "cell_type": "code",
   "execution_count": 7,
   "metadata": {},
   "outputs": [],
   "source": [
    "a1 = 'Roma ( Tutte Le Stazioni )'\n",
    "a2 = 'Milano ( Tutte le stazioni )'"
   ]
  },
  {
   "cell_type": "code",
   "execution_count": 16,
   "metadata": {},
   "outputs": [
    {
     "name": "stdout",
     "output_type": "stream",
     "text": [
      "https://www.trenitalia.com/\n"
     ]
    }
   ],
   "source": [
    "urlpage = 'https://www.trenitalia.com/'\n",
    "print(urlpage)\n",
    "# run firefox webdriver from executable path of your choice\n",
    "driver = webdriver.Firefox(executable_path = 'C:\\\\Users\\\\danie\\\\web_scraping\\geckodriver.exe')\n",
    "driver.get(urlpage)\n",
    "# execute script to scroll down the page\n",
    "driver.execute_script(\"window.scrollTo(0, document.body.scrollHeight);var lenOfPage=document.body.scrollHeight;return lenOfPage;\")\n",
    "# sleep for 30s\n",
    "time.sleep(30)"
   ]
  },
  {
   "cell_type": "code",
   "execution_count": 17,
   "metadata": {},
   "outputs": [
    {
     "name": "stdout",
     "output_type": "stream",
     "text": [
      "{159: '95,00 €', 290: '95,00 €', 390: '129,00 €'}\n",
      "['95,00 €', '95,00 €', '129,00 €']\n",
      "semo aqui\n",
      "testo1 11\n",
      "testo 7\n",
      "{159: '112,00 €', 290: '95,00 €', 390: '129,00 €'}\n",
      "['112,00 €', '95,00 €', '129,00 €']\n",
      "semo aqui\n",
      "testo1 12\n",
      "testo 8\n",
      "{159: '95,00 €', 290: '95,00 €', 390: '129,00 €'}\n",
      "['95,00 €', '95,00 €', '129,00 €']\n",
      "semo aqui\n",
      "testo1 12\n",
      "testo 9\n",
      "{159: '95,00 €', 290: '95,00 €', 390: '129,00 €'}\n",
      "['95,00 €', '95,00 €', '129,00 €']\n",
      "semo aqui\n",
      "testo1 12\n",
      "testo 10\n"
     ]
    }
   ],
   "source": [
    "data = naviga_da_a(a1,a2,4)"
   ]
  },
  {
   "cell_type": "code",
   "execution_count": 26,
   "metadata": {},
   "outputs": [],
   "source": [
    "import pandas as pd\n",
    "import numpy as np\n",
    "data_1 = pd.DataFrame({'prezzi':data[0],'treno':data[1],'data_partenza':data[2],'data_raccolta':data[3]})"
   ]
  },
  {
   "cell_type": "code",
   "execution_count": 27,
   "metadata": {},
   "outputs": [
    {
     "data": {
      "text/html": [
       "<div>\n",
       "<style scoped>\n",
       "    .dataframe tbody tr th:only-of-type {\n",
       "        vertical-align: middle;\n",
       "    }\n",
       "\n",
       "    .dataframe tbody tr th {\n",
       "        vertical-align: top;\n",
       "    }\n",
       "\n",
       "    .dataframe thead th {\n",
       "        text-align: right;\n",
       "    }\n",
       "</style>\n",
       "<table border=\"1\" class=\"dataframe\">\n",
       "  <thead>\n",
       "    <tr style=\"text-align: right;\">\n",
       "      <th></th>\n",
       "      <th>prezzi</th>\n",
       "      <th>treno</th>\n",
       "      <th>data_partenza</th>\n",
       "      <th>data_raccolta</th>\n",
       "    </tr>\n",
       "  </thead>\n",
       "  <tbody>\n",
       "    <tr>\n",
       "      <th>0</th>\n",
       "      <td>95,00 €</td>\n",
       "      <td>Frecciarossa 9556</td>\n",
       "      <td>2020-05-06</td>\n",
       "      <td>2020-05-06</td>\n",
       "    </tr>\n",
       "    <tr>\n",
       "      <th>1</th>\n",
       "      <td>95,00 €</td>\n",
       "      <td>Frecciarossa 9512</td>\n",
       "      <td>2020-05-07</td>\n",
       "      <td>2020-05-06</td>\n",
       "    </tr>\n",
       "    <tr>\n",
       "      <th>2</th>\n",
       "      <td>129,00 €</td>\n",
       "      <td>Frecciarossa 9310</td>\n",
       "      <td>2020-05-08</td>\n",
       "      <td>2020-05-06</td>\n",
       "    </tr>\n",
       "    <tr>\n",
       "      <th>3</th>\n",
       "      <td>112,00 €</td>\n",
       "      <td>Frecciarossa 9556</td>\n",
       "      <td>2020-05-06</td>\n",
       "      <td>2020-05-06</td>\n",
       "    </tr>\n",
       "    <tr>\n",
       "      <th>4</th>\n",
       "      <td>95,00 €</td>\n",
       "      <td>Frecciarossa 9512</td>\n",
       "      <td>2020-05-07</td>\n",
       "      <td>2020-05-06</td>\n",
       "    </tr>\n",
       "    <tr>\n",
       "      <th>5</th>\n",
       "      <td>129,00 €</td>\n",
       "      <td>Frecciarossa 9310</td>\n",
       "      <td>2020-05-08</td>\n",
       "      <td>2020-05-06</td>\n",
       "    </tr>\n",
       "    <tr>\n",
       "      <th>6</th>\n",
       "      <td>95,00 €</td>\n",
       "      <td>Frecciarossa 9556</td>\n",
       "      <td>2020-05-06</td>\n",
       "      <td>2020-05-06</td>\n",
       "    </tr>\n",
       "    <tr>\n",
       "      <th>7</th>\n",
       "      <td>95,00 €</td>\n",
       "      <td>Frecciarossa 9512</td>\n",
       "      <td>2020-05-07</td>\n",
       "      <td>2020-05-06</td>\n",
       "    </tr>\n",
       "    <tr>\n",
       "      <th>8</th>\n",
       "      <td>129,00 €</td>\n",
       "      <td>Frecciarossa 9310</td>\n",
       "      <td>2020-05-08</td>\n",
       "      <td>2020-05-06</td>\n",
       "    </tr>\n",
       "    <tr>\n",
       "      <th>9</th>\n",
       "      <td>95,00 €</td>\n",
       "      <td>Frecciarossa 9556</td>\n",
       "      <td>2020-05-06</td>\n",
       "      <td>2020-05-06</td>\n",
       "    </tr>\n",
       "    <tr>\n",
       "      <th>10</th>\n",
       "      <td>95,00 €</td>\n",
       "      <td>Frecciarossa 9512</td>\n",
       "      <td>2020-05-07</td>\n",
       "      <td>2020-05-06</td>\n",
       "    </tr>\n",
       "    <tr>\n",
       "      <th>11</th>\n",
       "      <td>129,00 €</td>\n",
       "      <td>Frecciarossa 9310</td>\n",
       "      <td>2020-05-08</td>\n",
       "      <td>2020-05-06</td>\n",
       "    </tr>\n",
       "  </tbody>\n",
       "</table>\n",
       "</div>"
      ],
      "text/plain": [
       "      prezzi              treno data_partenza data_raccolta\n",
       "0    95,00 €  Frecciarossa 9556    2020-05-06    2020-05-06\n",
       "1    95,00 €  Frecciarossa 9512    2020-05-07    2020-05-06\n",
       "2   129,00 €  Frecciarossa 9310    2020-05-08    2020-05-06\n",
       "3   112,00 €  Frecciarossa 9556    2020-05-06    2020-05-06\n",
       "4    95,00 €  Frecciarossa 9512    2020-05-07    2020-05-06\n",
       "5   129,00 €  Frecciarossa 9310    2020-05-08    2020-05-06\n",
       "6    95,00 €  Frecciarossa 9556    2020-05-06    2020-05-06\n",
       "7    95,00 €  Frecciarossa 9512    2020-05-07    2020-05-06\n",
       "8   129,00 €  Frecciarossa 9310    2020-05-08    2020-05-06\n",
       "9    95,00 €  Frecciarossa 9556    2020-05-06    2020-05-06\n",
       "10   95,00 €  Frecciarossa 9512    2020-05-07    2020-05-06\n",
       "11  129,00 €  Frecciarossa 9310    2020-05-08    2020-05-06"
      ]
     },
     "execution_count": 27,
     "metadata": {},
     "output_type": "execute_result"
    }
   ],
   "source": [
    "data_1"
   ]
  }
 ],
 "metadata": {
  "kernelspec": {
   "display_name": "Python 3",
   "language": "python",
   "name": "python3"
  },
  "language_info": {
   "codemirror_mode": {
    "name": "ipython",
    "version": 3
   },
   "file_extension": ".py",
   "mimetype": "text/x-python",
   "name": "python",
   "nbconvert_exporter": "python",
   "pygments_lexer": "ipython3",
   "version": "3.8.2"
  }
 },
 "nbformat": 4,
 "nbformat_minor": 4
}
